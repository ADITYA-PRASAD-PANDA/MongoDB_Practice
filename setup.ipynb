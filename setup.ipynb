{
 "cells": [
  {
   "cell_type": "markdown",
   "metadata": {},
   "source": [
    "#### 1. Install\n",
    "- npm i express\n",
    "- npm i mongoose\n",
    "- npm i nodemon (Run) - npx nodemon filename(app.js)\n",
    "\n",
    "#### 2. Create a new file named 'app.js' and 'usermodel.js'\n",
    "\n",
    "#### 3. npm init (package ) \n",
    "\n",
    "#### 4. In usermodel.js - write your structure\n",
    "\n",
    "#### 5. app.js\n"
   ]
  },
  {
   "cell_type": "markdown",
   "metadata": {},
   "source": []
  },
  {
   "cell_type": "markdown",
   "metadata": {},
   "source": []
  },
  {
   "cell_type": "markdown",
   "metadata": {},
   "source": []
  },
  {
   "cell_type": "markdown",
   "metadata": {},
   "source": []
  },
  {
   "cell_type": "markdown",
   "metadata": {},
   "source": []
  },
  {
   "cell_type": "markdown",
   "metadata": {},
   "source": []
  }
 ],
 "metadata": {
  "language_info": {
   "name": "python"
  }
 },
 "nbformat": 4,
 "nbformat_minor": 2
}
